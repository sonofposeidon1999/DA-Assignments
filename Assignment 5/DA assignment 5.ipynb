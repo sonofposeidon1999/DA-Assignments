{
 "cells": [
  {
   "cell_type": "code",
   "execution_count": 1,
   "metadata": {},
   "outputs": [],
   "source": [
    "import pandas as pd\n",
    "from statsmodels.tsa.api import ExponentialSmoothing, SimpleExpSmoothing, Holt"
   ]
  },
  {
   "cell_type": "code",
   "execution_count": 2,
   "metadata": {},
   "outputs": [],
   "source": [
    "df=pd.read_csv('/Users/91908/Desktop/index.csv', encoding='ISO-8859-1')"
   ]
  },
  {
   "cell_type": "markdown",
   "metadata": {},
   "source": [
    "# Moving Average"
   ]
  },
  {
   "cell_type": "code",
   "execution_count": 3,
   "metadata": {},
   "outputs": [
    {
     "data": {
      "text/plain": [
       "3.7846267979815313"
      ]
     },
     "execution_count": 3,
     "metadata": {},
     "output_type": "execute_result"
    }
   ],
   "source": [
    "df['moving average']=df['Unemployment Rate'].rolling(window=5).mean()\n",
    "error=0\n",
    "for i in range(4,len(df)):\n",
    "    error+=(df['Unemployment Rate'][i]-df['moving average'][i])**2\n",
    "rmse=(error/2)**0.5\n",
    "rmse"
   ]
  },
  {
   "cell_type": "markdown",
   "metadata": {},
   "source": [
    "# single exponential smoothing   "
   ]
  },
  {
   "cell_type": "code",
   "execution_count": 5,
   "metadata": {},
   "outputs": [
    {
     "name": "stdout",
     "output_type": "stream",
     "text": [
      "0.5196548708614344\n",
      "1.9727453942170814\n",
      "0.230771484756646\n"
     ]
    }
   ],
   "source": [
    "UnemploymentRate=(df['Unemployment Rate'])\n",
    "#alpha=0.2\n",
    "forecast=[]\n",
    "A1=UnemploymentRate[0]\n",
    "forecast.append(A1)\n",
    "total_rows=len(UnemploymentRate)\n",
    "for i in range(1,total_rows):\n",
    "    F=(0.2*UnemploymentRate[i-1])+(0.8*forecast[i-1])\n",
    "    forecast.append(F)\n",
    "rmse=0\n",
    "for i in range(total_rows):\n",
    "    value=(UnemploymentRate[i]-forecast[i])**2\n",
    "    rmse=rmse+value\n",
    "rmse=(rmse/total_rows)**0.5\n",
    "print(rmse)\n",
    "\n",
    "\n",
    "#alpha=0.4\n",
    "forecast=[]\n",
    "A1=UnemploymentRate[0]\n",
    "forecast.append(A1)\n",
    "total_rows=len(UnemploymentRate)\n",
    "for i in range(1,total_rows):\n",
    "    F=(0.4*UnemploymentRate[i-1])+(0.4*forecast[i-1])\n",
    "    forecast.append(F)\n",
    "\n",
    "rmse=0\n",
    "for i in range(total_rows):\n",
    "    value=(UnemploymentRate[i]-forecast[i])**2\n",
    "    rmse=rmse+value\n",
    "rmse=(rmse/total_rows)**0.5\n",
    "print(rmse)\n",
    "\n",
    "#alpha=0.8\n",
    "forecast=[]\n",
    "A1=UnemploymentRate[0]\n",
    "forecast.append(A1)\n",
    "total_rows=len(UnemploymentRate)\n",
    "for i in range(1,total_rows):\n",
    "    F=(0.8*UnemploymentRate[i-1])+(0.2*forecast[i-1])\n",
    "    forecast.append(F)\n",
    "\n",
    "rmse=0\n",
    "for i in range(total_rows):\n",
    "    value=(UnemploymentRate[i]-forecast[i])**2\n",
    "    rmse=rmse+value\n",
    "rmse=(rmse/total_rows)**0.5\n",
    "print(rmse)"
   ]
  },
  {
   "cell_type": "markdown",
   "metadata": {},
   "source": [
    "# Holt's Method"
   ]
  },
  {
   "cell_type": "code",
   "execution_count": 8,
   "metadata": {},
   "outputs": [
    {
     "name": "stdout",
     "output_type": "stream",
     "text": [
      "2.646140694113501\n"
     ]
    }
   ],
   "source": [
    "UnemploymentRate=(df['Unemployment Rate'])\n",
    "a=0.2\n",
    "b=0.2\n",
    "level=[]\n",
    "trend=[]\n",
    "fitted_value=[]\n",
    "T0=UnemploymentRate[0]\n",
    "L0=UnemploymentRate[0]\n",
    "level.append(L0)\n",
    "trend.append(T0)\n",
    "F0=T0+L0\n",
    "fitted_value.append(F0)\n",
    "total_rows=len(UnemploymentRate)\n",
    "for i in range(1,total_rows):\n",
    "    L=(a*UnemploymentRate[i])+((1-a)*(level[i-1]+trend[i-1]))\n",
    "    level.append(L)\n",
    "    T=(b*(level[i]-level[i-1]))+((1-b)*trend[i-1])\n",
    "    trend.append(T)\n",
    "    Y=level[i-1]+trend[i-1]\n",
    "    fitted_value.append(Y)\n",
    "    \n",
    "    \n",
    "rmse=0\n",
    "for i in range(total_rows):\n",
    "    value=(UnemploymentRate[i]-fitted_value[i])**2\n",
    "    rmse=rmse+value\n",
    "rmse=(rmse/total_rows)**0.5\n",
    "print(rmse)"
   ]
  }
 ],
 "metadata": {
  "kernelspec": {
   "display_name": "Python 3",
   "language": "python",
   "name": "python3"
  },
  "language_info": {
   "codemirror_mode": {
    "name": "ipython",
    "version": 3
   },
   "file_extension": ".py",
   "mimetype": "text/x-python",
   "name": "python",
   "nbconvert_exporter": "python",
   "pygments_lexer": "ipython3",
   "version": "3.7.3"
  }
 },
 "nbformat": 4,
 "nbformat_minor": 2
}
